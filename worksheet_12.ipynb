{
 "cells": [
  {
   "cell_type": "markdown",
   "metadata": {},
   "source": [
    "# Worksheet 12\n",
    "\n",
    "Name:  Houjie Jiang  \n",
    "UID: U65333668\n",
    "\n",
    "### Topics\n",
    "\n",
    "- Introduction to Classification\n",
    "- K Nearest Neighbors\n",
    "\n",
    "### Introduction to Classification\n",
    "\n",
    "a) For the following examples, say whether they are or aren't an example of classification.\n",
    "\n",
    "1. Predicting whether a student will be offered a job after graduating given their GPA.\n",
    "2. Predicting how long it will take (in number of months) for a student to be offered a job after graduating, given their GPA.\n",
    "3. Predicting the number of stars (1-5) a person will assign in their yelp review given the description they wrote in the review.\n",
    "4. Predicting the number of births occuring in a specified minute."
   ]
  },
  {
   "cell_type": "markdown",
   "metadata": {},
   "source": [
    "1. Yes. There are two categories, yes or no.\n",
    "2. No. Because the variables to be predicted are numeric.\n",
    "3. Yes. There are five categories in total, representing five stars.\n",
    "4. No. Because the variables to be predicted are numeric. "
   ]
  },
  {
   "cell_type": "markdown",
   "metadata": {},
   "source": [
    "b) Given a dataset, how would you set things up such that you can both learn a model and get an idea of how this model might perform on data it has never seen?"
   ]
  },
  {
   "cell_type": "markdown",
   "metadata": {},
   "source": [
    "If the dataset is large, 20% of it can be sliced off as a validation set. Cross-validation can also be used, where one part of the data is used to learn at a time and the other part is used as validation."
   ]
  },
  {
   "cell_type": "markdown",
   "metadata": {},
   "source": [
    "c) In your own words, briefly explain:\n",
    "\n",
    "- underfitting\n",
    "- overfitting\n",
    "\n",
    "and what signs to look out for for each."
   ]
  },
  {
   "cell_type": "markdown",
   "metadata": {},
   "source": [
    "Underfitting occurs when the model is too simple, resulting in poor performance on both the training and test data, this is caused by the model not having learnt enough, while overfitting occurs when the model is too complex, performing well on the training data but poorly on unseen data, this may due to the fact that the model focuses too much on some of the features of the fitted sample and ignores the global.\n",
    "\n",
    "Signs to look out for underfitting contains high training error and high bias. The model may have few parameter.\n",
    "\n",
    "Signs to look out for overfitting contains low training error but high test error and high variance. The model may have too many parameters."
   ]
  },
  {
   "cell_type": "markdown",
   "metadata": {},
   "source": [
    "### K Nearest Neighbors"
   ]
  },
  {
   "cell_type": "code",
   "execution_count": 4,
   "metadata": {},
   "outputs": [],
   "source": [
    "import numpy as np\n",
    "import matplotlib.pyplot as plt\n",
    "\n",
    "data = {\n",
    "    \"Attribute A\" : [3.5, 0, 1, 2.5, 2, 1.5, 2, 3.5, 1, 3, 2, 2, 2.5, 0.5, 0., 10],\n",
    "    \"Attribute B\" : [4, 1.5, 2, 1, 3.5, 2.5, 1, 0, 3, 1.5, 4, 2, 2.5, 0.5, 2.5, 10],\n",
    "    \"Class\" : [1, 0, 1, 0, 1, 0, 1, 0, 1, 0, 1, 0, 0, 1, 1, 0],\n",
    "}"
   ]
  },
  {
   "cell_type": "markdown",
   "metadata": {},
   "source": [
    "a) Plot the data in a 2D plot coloring each scatter point one of two colors depending on its corresponding class."
   ]
  },
  {
   "cell_type": "code",
   "execution_count": 5,
   "metadata": {},
   "outputs": [
    {
     "data": {
      "image/png": "[encoded data removed]",
      "text/plain": [
       "<Figure size 576x432 with 1 Axes>"
      ]
     },
     "metadata": {
      "needs_background": "light"
     },
     "output_type": "display_data"
    }
   ],
   "source": [
    "# Plot the data points with colors based on class labels\n",
    "plt.figure(figsize=(8, 6))\n",
    "plt.scatter(data[\"Attribute A\"], data[\"Attribute B\"], color=colors[data[\"Class\"]].tolist())\n",
    "plt.xlabel('Attribute A')\n",
    "plt.ylabel('Attribute B')\n",
    "plt.title('Fig 1')\n",
    "plt.show()"
   ]
  },
  {
   "cell_type": "markdown",
   "metadata": {},
   "source": [
    "Outliers are points that lie far from the rest of the data. They are not necessarily invalid points however. Imagine sampling from a Normal Distribution with mean 10 and variance 1. You would expect most points you sample to be in the range [7, 13] but it's entirely possible to see 20 which, on average, should be very far from the rest of the points in the sample (unless we're VERY (un)lucky). These outliers can inhibit our ability to learn general patterns in the data since they are not representative of likely outcomes. They can still be useful in of themselves and can be analyzed in great depth depending on the problem at hand.\n",
    "\n",
    "b) Are there any points in the dataset that could be outliers? If so, please remove them from the dataset."
   ]
  },
  {
   "cell_type": "markdown",
   "metadata": {},
   "source": [
    "Yes, [10,10] may be a outlier."
   ]
  },
  {
   "cell_type": "code",
   "execution_count": 6,
   "metadata": {},
   "outputs": [],
   "source": [
    "data = {\n",
    "    \"Attribute A\" : [3.5, 0, 1, 2.5, 2, 1.5, 2, 3.5, 1, 3, 2, 2, 2.5, 0.5, 0.],\n",
    "    \"Attribute B\" : [4, 1.5, 2, 1, 3.5, 2.5, 1, 0, 3, 1.5, 4, 2, 2.5, 0.5, 2.5],\n",
    "    \"Class\" : [1, 0, 1, 0, 1, 0, 1, 0, 1, 0, 1, 0, 0, 1, 1],\n",
    "}"
   ]
  },
  {
   "cell_type": "markdown",
   "metadata": {},
   "source": [
    "Noise points are points that could be considered invalid under the general trend in the data. These could be the result of actual errors in the data or randomness that we could attribute to oversimplification (for example if missing some information / feature about each point). Considering noise points in our model can often lead to overfitting.\n",
    "\n",
    "c) Are there any points in the dataset that could be noise points?"
   ]
  },
  {
   "cell_type": "markdown",
   "metadata": {},
   "source": [
    "When A==0, B==0.5, this point may be noise point, because it is surrounded by other categories of points."
   ]
  },
  {
   "cell_type": "markdown",
   "metadata": {},
   "source": [
    "For the following point\n",
    "\n",
    "|  A  |  B  |\n",
    "|-----|-----|\n",
    "| 0.5 |  1  |\n",
    "\n",
    "d) Plot it in a different color along with the rest of the points in the dataset."
   ]
  },
  {
   "cell_type": "code",
   "execution_count": 8,
   "metadata": {},
   "outputs": [
    {
     "data": {
      "image/png": "[encoded data removed]",
      "text/plain": [
       "<Figure size 576x432 with 1 Axes>"
      ]
     },
     "metadata": {
      "needs_background": "light"
     },
     "output_type": "display_data"
    }
   ],
   "source": [
    "# Extract the point where A=0.5 and B=1\n",
    "special_point = [0.5, 1]\n",
    "\n",
    "# Define colors for each class\n",
    "colors = np.array([x for x in 'bgrcmyk'])\n",
    "\n",
    "# Plot the data points with colors based on class labels\n",
    "plt.figure(figsize=(8, 6))\n",
    "plt.scatter(data[\"Attribute A\"], data[\"Attribute B\"], color=colors[data[\"Class\"]].tolist())\n",
    "\n",
    "# Plot the special point in a different color\n",
    "plt.scatter(special_point[0], special_point[1], color='orange', label='Special Point')\n",
    "plt.xlabel('Attribute A')\n",
    "plt.ylabel('Attribute B')\n",
    "plt.title('Fig 2')\n",
    "plt.legend()\n",
    "plt.show()"
   ]
  },
  {
   "cell_type": "markdown",
   "metadata": {},
   "source": [
    "e) Write a function to compute the Euclidean distance from it to all points in the dataset and pick the 3 closest points to it. In a scatter plot, draw a circle centered around the point with radius the distance of the farthest of the three points."
   ]
  },
  {
   "cell_type": "code",
   "execution_count": 12,
   "metadata": {},
   "outputs": [
    {
     "data": {
      "image/png": "[encoded data removed]",
      "text/plain": [
       "<Figure size 576x432 with 1 Axes>"
      ]
     },
     "metadata": {
      "needs_background": "light"
     },
     "output_type": "display_data"
    }
   ],
   "source": [
    "from math import sqrt\n",
    "def n_closest_to(example, n, dataset):\n",
    "    distances = []\n",
    "    for i in range(len(dataset[\"Attribute A\"])):\n",
    "        dist = sqrt((example[0] - dataset[\"Attribute A\"][i])**2 + (example[1] - dataset[\"Attribute B\"][i])**2)\n",
    "        distances.append((i, dist))\n",
    "    sorted_distances = sorted(distances, key=lambda x: x[1])\n",
    "    closest_indices = [index for index, _ in sorted_distances[:n]]\n",
    "    closest_points = [(dataset[\"Attribute A\"][i], dataset[\"Attribute B\"][i]) for i in closest_indices]\n",
    "    farthest_distance = sorted_distances[n - 1][1]\n",
    "    return closest_points, farthest_distance\n",
    "\n",
    "location = ( 0.5 , 1 )\n",
    "# Compute closest points and farthest distance\n",
    "closest_points, radius = n_closest_to(location, 3, data)\n",
    "\n",
    "colors = np.array([x for x in 'bgrcmyk'])\n",
    "plt.figure(figsize=(8, 6))\n",
    "plt.scatter(data[\"Attribute A\"], data[\"Attribute B\"], color=colors[data[\"Class\"]].tolist())\n",
    "plt.scatter(location[0], location[1], color='orange', label='Special Point')\n",
    "\n",
    "# Plot circles around the special point with radius equal to the distance to the farthest of the three closest points\n",
    "for point in closest_points:\n",
    "    circle = plt.Circle(location, radius, color='orange', fill=False, alpha=0.8)\n",
    "    plt.gcf().gca().add_artist(circle)\n",
    "\n",
    "plt.xlabel('Attribute A')\n",
    "plt.ylabel('Attribute B')\n",
    "plt.title('Fig 3')\n",
    "plt.legend()\n",
    "\n",
    "# Set aspect ratio, so that the circle in the diagram can appear to be a circle.\n",
    "plt.gca().set_aspect('equal')\n",
    "plt.show()"
   ]
  },
  {
   "cell_type": "markdown",
   "metadata": {},
   "source": [
    "f) Write a function that takes the three points returned by your function in e) and returns the class that the majority of points have (break ties with a deterministic default class of your choosing). Print the class assigned to this new point by your function."
   ]
  },
  {
   "cell_type": "code",
   "execution_count": 17,
   "metadata": {},
   "outputs": [
    {
     "name": "stdout",
     "output_type": "stream",
     "text": [
      "Class assigned to the new point: 1\n"
     ]
    }
   ],
   "source": [
    "def majority(points, dataset):\n",
    "    class_counts = {0: 0, 1: 0}  # Initialize class counts\n",
    "    for point in closest_points:\n",
    "        index = dataset[\"Attribute A\"].index(point[0])  # Find the index of the point in the dataset\n",
    "        class_label = dataset[\"Class\"][index]  # Get the class label of the point\n",
    "        class_counts[class_label] += 1  # Increment the count for the corresponding class label\n",
    "    majority_class = max(class_counts, key=class_counts.get)  # Find the class with the majority of points\n",
    "    return majority_class\n",
    "\n",
    "closest_points, _ = n_closest_to(location, 3, data)\n",
    "assigned_class = majority(closest_points,data)\n",
    "print(\"Class assigned to the new point:\", assigned_class)"
   ]
  },
  {
   "cell_type": "markdown",
   "metadata": {},
   "source": [
    "g) Re-using the functions from e) and f), you should be able to assign a class to any new point. In this exercise we will implement Leave-one-out cross validiation in order to evaluate the performance of our model.\n",
    "\n",
    "For each point in the dataset:\n",
    "\n",
    "- consider that point as your test set and the rest of the data as your training set\n",
    "- classify that point using the training set\n",
    "- keep track of whether you were correct with the use of a counter\n",
    "\n",
    "Once you've iterated through the entire dataset, divide the counter by the number of points in the dataset to report an overall testing accuracy."
   ]
  },
  {
   "cell_type": "code",
   "execution_count": 19,
   "metadata": {},
   "outputs": [
    {
     "name": "stdout",
     "output_type": "stream",
     "text": [
      "overall accuracy =  0.6\n"
     ]
    }
   ],
   "source": [
    "count = 0\n",
    "total_points = len(data[\"Attribute A\"])\n",
    "for i in range(total_points):\n",
    "    # Exclude the i-th point and consider the rest as the training set\n",
    "    test_point = (data[\"Attribute A\"][i], data[\"Attribute B\"][i])\n",
    "    actual_class = data[\"Class\"][i]\n",
    "    training_set = {\n",
    "        \"Attribute A\": data[\"Attribute A\"][:i] + data[\"Attribute A\"][i+1:],\n",
    "        \"Attribute B\": data[\"Attribute B\"][:i] + data[\"Attribute B\"][i+1:],\n",
    "        \"Class\": data[\"Class\"][:i] + data[\"Class\"][i+1:]\n",
    "    }\n",
    "    # Classify the test point using the training set\n",
    "    closest_points, _ = n_closest_to(test_point, 3, training_set)\n",
    "    prediction = majority(closest_points, training_set)\n",
    "    # Check if the prediction matches the actual class\n",
    "    if prediction == actual_class:\n",
    "        count += 1\n",
    "\n",
    "# Calculate the overall testing accuracy\n",
    "accuracy = count / total_points\n",
    "\n",
    "print(\"overall accuracy = \",accuracy)"
   ]
  },
  {
   "cell_type": "markdown",
   "metadata": {},
   "source": [
    "## Challenge Problem\n",
    "\n",
    "For this question we will re-use the \"mnist_784\" dataset.\n",
    "\n",
    "a) Begin by creating a training and testing datasest from our dataset, with a 80-20 ratio, and random_state=1. You can use the `train_test_split` function from sklearn. By holding out a portion of the dataset we can evaluate how our model generalizes to unseen data (i.e. data it did not learn from)."
   ]
  },
  {
   "cell_type": "code",
   "execution_count": 22,
   "metadata": {},
   "outputs": [
    {
     "name": "stdout",
     "output_type": "stream",
     "text": [
      "Training set shape: (56000, 784) (56000,)\n",
      "Testing set shape: (14000, 784) (14000,)\n"
     ]
    }
   ],
   "source": [
    "from sklearn.model_selection import train_test_split\n",
    "\n",
    "import matplotlib.pyplot as plt\n",
    "\n",
    "from sklearn.datasets import fetch_openml\n",
    "\n",
    "mnist = fetch_openml('mnist_784', version=1)\n",
    "\n",
    "# Split the dataset into training and testing sets with a ratio of 80:20 and random_state=1\n",
    "X_train, X_test, y_train, y_test = train_test_split(mnist.data, mnist.target, test_size=0.2, random_state=1)\n",
    "\n",
    "print(\"Training set shape:\", X_train.shape, y_train.shape)\n",
    "print(\"Testing set shape:\", X_test.shape, y_test.shape)"
   ]
  },
  {
   "cell_type": "markdown",
   "metadata": {},
   "source": [
    "b) For K ranging from 1 to 20:\n",
    "\n",
    "1. train a KNN on the training data\n",
    "2. record the training and testing accuracy\n",
    "\n",
    "Plot a graph of the training and testing set accuracy as a function of the number of neighbors K (on the same plot). Which value of K is optimal? Briefly explain."
   ]
  },
  {
   "cell_type": "code",
   "execution_count": 24,
   "metadata": {},
   "outputs": [
    {
     "data": {
      "image/png": "[encoded data removed]",
      "text/plain": [
       "<Figure size 720x432 with 1 Axes>"
      ]
     },
     "metadata": {
      "needs_background": "light"
     },
     "output_type": "display_data"
    }
   ],
   "source": [
    "from sklearn.neighbors import KNeighborsClassifier\n",
    "\n",
    "# Convert data to numpy arrays and ensure they are contiguous\n",
    "X_train = np.ascontiguousarray(X_train)\n",
    "X_test = np.ascontiguousarray(X_test)\n",
    "y_train = np.ascontiguousarray(y_train)\n",
    "y_test = np.ascontiguousarray(y_test)\n",
    "\n",
    "# Lists to store training and testing accuracies for each value of k\n",
    "train_accuracies = []\n",
    "test_accuracies = []\n",
    "\n",
    "# Values of k to iterate over\n",
    "k_values = range(1, 21)\n",
    "\n",
    "# Iterate over each value of k\n",
    "for k in k_values:\n",
    "    # Train KNN classifier\n",
    "    knn = KNeighborsClassifier(n_neighbors=k)\n",
    "    knn.fit(X_train, y_train)\n",
    "    \n",
    "    # Compute training accuracy\n",
    "    train_accuracy = knn.score(X_train, y_train)\n",
    "    train_accuracies.append(train_accuracy)\n",
    "    \n",
    "    # Compute testing accuracy\n",
    "    test_accuracy = knn.score(X_test, y_test)\n",
    "    test_accuracies.append(test_accuracy)\n",
    "\n",
    "# Plot the graph of training and testing accuracies vs. number of neighbors (k)\n",
    "plt.figure(figsize=(10, 6))\n",
    "plt.plot(k_values, train_accuracies, label='Training Accuracy')\n",
    "plt.plot(k_values, test_accuracies, label='Testing Accuracy')\n",
    "plt.title('KNN Classifier Accuracy vs. Number of Neighbors (K)')\n",
    "plt.xlabel('Number of Neighbors (K)')\n",
    "plt.ylabel('Accuracy')\n",
    "plt.xticks(k_values)\n",
    "plt.legend()\n",
    "plt.grid(True)\n",
    "plt.show()"
   ]
  },
  {
   "cell_type": "markdown",
   "metadata": {},
   "source": [
    "K==3 is optimal, because as k becomes larger, testing accuracy instead becomes lower. When k==1,the results may less stable"
   ]
  },
  {
   "cell_type": "markdown",
   "metadata": {},
   "source": [
    "c) Using the best model from b), pick an image at random and plot it next to its K nearest neighbors"
   ]
  },
  {
   "cell_type": "code",
   "execution_count": 27,
   "metadata": {},
   "outputs": [
    {
     "data": {
      "image/png": "[encoded data removed]",
      "text/plain": [
       "<Figure size 864x288 with 4 Axes>"
      ]
     },
     "metadata": {
      "needs_background": "light"
     },
     "output_type": "display_data"
    }
   ],
   "source": [
    "# Choose a random index from the testing dataset\n",
    "random_index = np.random.randint(len(X_test))\n",
    "\n",
    "# Select the random image and its corresponding label\n",
    "random_image = X_test[random_index]\n",
    "random_label = y_test[random_index]\n",
    "\n",
    "# Reshape the random image to its original dimensions (28x28)\n",
    "random_image = random_image.reshape(28, 28)\n",
    "\n",
    "# Train KNN classifier with k=3\n",
    "knn = KNeighborsClassifier(n_neighbors=4)  # Including the random image itself\n",
    "knn.fit(X_train, y_train)\n",
    "\n",
    "# Find the indices of the 4 nearest neighbors of the random image\n",
    "distances, indices = knn.kneighbors([random_image.flatten()])\n",
    "\n",
    "# Plot the random image and its 3 nearest neighbors\n",
    "plt.figure(figsize=(12, 4))\n",
    "plt.subplot(1, 4, 1)\n",
    "plt.imshow(random_image, cmap='gray')\n",
    "plt.title('Random Image\\nLabel: {}'.format(random_label))\n",
    "plt.axis('off')\n",
    "\n",
    "for i, index in enumerate(indices[0]):\n",
    "    if i == 0:\n",
    "        continue  # Skip the first index, which is the random image itself\n",
    "    neighbor_image = X_train[index].reshape(28, 28)\n",
    "    neighbor_label = y_train[index]\n",
    "    plt.subplot(1, 4, i + 1)\n",
    "    plt.imshow(neighbor_image, cmap='gray')\n",
    "    plt.title('Neighbor {}\\nLabel: {}'.format(i, neighbor_label))\n",
    "    plt.axis('off')\n",
    "\n",
    "plt.tight_layout()\n",
    "plt.show()"
   ]
  },
  {
   "cell_type": "markdown",
   "metadata": {},
   "source": [
    "d) Using a dimensionality reduction technique discussed in class, reduce the dimensionality of the dataset before applying a KNN model. Repeat b) and discuss similarities and differences to the previous model. Briefly discuss your choice of dimension and why you think the performance / accuracy of the model has changed."
   ]
  },
  {
   "cell_type": "code",
   "execution_count": 28,
   "metadata": {},
   "outputs": [
    {
     "name": "stdout",
     "output_type": "stream",
     "text": [
      "Dimension: 10, Testing Accuracy: 0.9260714285714285\n",
      "Dimension: 30, Testing Accuracy: 0.978\n",
      "Dimension: 50, Testing Accuracy: 0.9770714285714286\n",
      "Dimension: 100, Testing Accuracy: 0.9749285714285715\n",
      "Dimension: 150, Testing Accuracy: 0.9740714285714286\n"
     ]
    }
   ],
   "source": [
    "from sklearn.pipeline import make_pipeline\n",
    "from sklearn.decomposition import PCA \n",
    "\n",
    "dimensions = [10, 30, 50, 100, 150]\n",
    "accuracies = {}\n",
    "\n",
    "for dimension in dimensions:\n",
    "    # Create a pipeline with PCA for dimensionality reduction and KNN for classification\n",
    "    dimensionality_reduction = PCA(n_components=dimension)\n",
    "    knn_model = KNeighborsClassifier(n_neighbors=3)\n",
    "    model = make_pipeline(dimensionality_reduction, knn_model)\n",
    "\n",
    "    model.fit(X_train, y_train)\n",
    "    accuracy = model.score(X_test, y_test)\n",
    "    accuracies[dimension] = accuracy\n",
    "\n",
    "for dimension, accuracy in accuracies.items():\n",
    "    print(f\"Dimension: {dimension}, Testing Accuracy: {accuracy}\")"
   ]
  },
  {
   "cell_type": "markdown",
   "metadata": {},
   "source": [
    "In order to pick the most appropriate dimension, I tried a different set of values and picked the one with the highest percentage of correctness in the test set.\n",
    "\n",
    "The main reason why dimensionality reduction makes the model run faster is because the time to calculate the Euclidean distance is reduced.\n",
    "\n",
    "The reason why dimensionality reduction makes the correctness rate higher may be due to discarding unnecessary information and making the properties of the nearest neighbour points more similar"
   ]
  },
  {
   "cell_type": "markdown",
   "metadata": {},
   "source": [
    "## Midterm Prep (Part 1)\n",
    "\n",
    "Compete in the Titanic Data Science Competition on Kaggle: https://www.kaggle.com/c/titanic \n",
    "\n",
    "Requirements:\n",
    "\n",
    "1. Add at least 2 new features to the dataset (explain your reasoning below)\n",
    "2. Use KNN (and only KNN) to predict survival\n",
    "3. Explain your process below and choice of K\n",
    "4. Make a submission to the competition and provide a link to your submission below.\n",
    "5. Show your code below"
   ]
  },
  {
   "cell_type": "code",
   "execution_count": 54,
   "metadata": {},
   "outputs": [
    {
     "name": "stdout",
     "output_type": "stream",
     "text": [
      "Probability of survival for different values of 'alone':\n",
      "alone\n",
      "0    0.505650\n",
      "1    0.303538\n",
      "Name: Survived, dtype: float64\n",
      "Probability of survival for different values of 'Embarked':\n",
      "Embarked\n",
      "C    0.553571\n",
      "Q    0.389610\n",
      "S    0.336957\n",
      "Name: Survived, dtype: float64\n",
      "Optimal k: 3\n",
      "Mean Cross-Validation Score: 0.6902356902356903\n"
     ]
    }
   ],
   "source": [
    "import pandas as pd\n",
    "from sklearn.model_selection import cross_val_score\n",
    "train = pd.read_csv('train.csv')\n",
    "test = pd.read_csv('test.csv')\n",
    "\n",
    "# Whether or not you're alone on the boat may have an effect on the probability of survival.\n",
    "def alone(row):\n",
    "    if row['SibSp'] == 0 and row['Parch'] == 0:\n",
    "        return 1\n",
    "    else:\n",
    "        return 0   \n",
    "train['alone'] = train.apply(alone, axis=1)\n",
    "test['alone'] = test.apply(alone, axis=1)\n",
    "survival_prob = train.groupby('alone')['Survived'].mean()\n",
    "print(\"Probability of survival for different values of 'alone':\")\n",
    "print(survival_prob)\n",
    "# The survival rate of those who go on board alone is lower. The new trait is working.\n",
    "\n",
    "# Try the Embarked feature for similar properties. \n",
    "survival_prob = train.groupby('Embarked')['Survived'].mean()\n",
    "print(\"Probability of survival for different values of 'Embarked':\")\n",
    "print(survival_prob)\n",
    "# Q and S has about the same survival rate, and combining them into one category creates a derived feature\n",
    "def map_embarked(value):\n",
    "    if value == 'C':\n",
    "        return 1\n",
    "    else:\n",
    "        return 0\n",
    "train['Embarked_re'] = train['Embarked'].map(map_embarked)\n",
    "test['Embarked_re'] = test['Embarked'].map(map_embarked)\n",
    "\n",
    "def map_sex(value):\n",
    "    if value == 'male':\n",
    "        return 0\n",
    "    else:\n",
    "        return 1\n",
    "train['Sex_re'] = train['Sex'].map(map_sex)\n",
    "test['Sex_re'] = test['Sex'].map(map_sex)\n",
    "\n",
    "# Discard useless features and label\n",
    "label=train['Survived']\n",
    "train.drop(['SibSp', 'Parch', 'Name', 'Ticket','Cabin', 'PassengerId','Sex','Embarked','Survived'], axis=1, inplace=True)\n",
    "test.drop(['SibSp', 'Parch', 'Name', 'Ticket','Cabin', 'PassengerId','Sex','Embarked'], axis=1, inplace=True)\n",
    "\n",
    "# Fill NA\n",
    "train['Age'].fillna(train['Age'].mean(), inplace=True)\n",
    "test['Age'].fillna(train['Age'].mean(), inplace=True)\n",
    "train['Fare'].fillna(train['Fare'].mean(), inplace=True)\n",
    "test['Fare'].fillna(train['Fare'].mean(), inplace=True)\n",
    "train['Pclass'].fillna(train['Pclass'].mode()[0], inplace=True)\n",
    "test['Pclass'].fillna(train['Pclass'].mode()[0], inplace=True)\n",
    "\n",
    "# Choose optimal K\n",
    "k_values = range(2, 6)\n",
    "cv_scores = {}\n",
    "for k in k_values:\n",
    "    knn = KNeighborsClassifier(n_neighbors=k)\n",
    "    scores = cross_val_score(knn, train, label, cv=3)\n",
    "    cv_scores[k] = scores.mean()\n",
    "optimal_k = max(cv_scores, key=cv_scores.get)\n",
    "optimal_score = cv_scores[optimal_k]\n",
    "print(\"Optimal k:\", optimal_k)\n",
    "print(\"Mean Cross-Validation Score:\", optimal_score)\n",
    "\n",
    "# Get the result\n",
    "knn_classifier = KNeighborsClassifier(n_neighbors=optimal_k)\n",
    "knn_classifier.fit(train, label)\n",
    "predictions = knn_classifier.predict(test)\n"
   ]
  },
  {
   "cell_type": "markdown",
   "metadata": {},
   "source": [
    "1. Look at the data to see if new features can be constructed from the original features\n",
    "2. Checking the validity of constructed new features.If valid, streamline away the features used to construct new features.\n",
    "3. Discard useless features and label and fill NA.\n",
    "4. Selection of the appropriate K, which is 3, higher cross-validation scores can be achieved.\n",
    "5. Fit the model. Run the fitted model."
   ]
  },
  {
   "cell_type": "markdown",
   "metadata": {},
   "source": [
    "The reason I chose these two added features:\n",
    "1. Whether or not a person is alone on the boat may have an impact on survival rates, as mutual help among family members as well as moral encouragement may boost survival rates if a person is not alone on the boat.\n",
    "2. Since there are not many original features and some textual features are basically useless for knn, an attempt was made to construct a new category of features, but it seems that the remaining features could not be combined like parents and siblings, so we can only check whether Embarked has the possibility of constructing them here, and fortunately he is effective!"
   ]
  },
  {
   "cell_type": "code",
   "execution_count": null,
   "metadata": {},
   "outputs": [],
   "source": []
  }
 ],
 "metadata": {
  "kernelspec": {
   "display_name": "Python 3 (ipykernel)",
   "language": "python",
   "name": "python3"
  },
  "language_info": {
   "codemirror_mode": {
    "name": "ipython",
    "version": 3
   },
   "file_extension": ".py",
   "mimetype": "text/x-python",
   "name": "python",
   "nbconvert_exporter": "python",
   "pygments_lexer": "ipython3",
   "version": "3.11.4"
  },
  "vscode": {
   "interpreter": {
    "hash": "e7370f93d1d0cde622a1f8e1c04877d8463912d04d973331ad4851f04de6915a"
   }
  }
 },
 "nbformat": 4,
 "nbformat_minor": 2
}
