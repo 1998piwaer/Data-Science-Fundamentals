{
 "cells": [
  {
   "cell_type": "markdown",
   "metadata": {},
   "source": [
    "# Worksheet 08\n",
    "\n",
    "Name:  Houjie Jiang  \n",
    "UID: U65333668\n",
    "\n",
    "### Topics\n",
    "\n",
    "- Soft Clustering\n",
    "- Clustering Aggregation\n",
    "\n",
    "### Probability Review\n",
    "\n",
    "Read through [the following](https://medium.com/@gallettilance/overview-of-probability-3272b72c82c8)\n",
    "\n",
    "### Soft Clustering\n",
    "\n",
    "We generate 10 data points that come from a normal distribution with mean 5 and variance 1."
   ]
  },
  {
   "cell_type": "code",
   "execution_count": 1,
   "metadata": {},
   "outputs": [
    {
     "name": "stdout",
     "output_type": "stream",
     "text": [
      "[6.992680246264931, 3.363519597945414, 4.734598726945719, 5.496461392885869, 3.338438726152716, 5.767959047469694, 6.078319439944337, 6.092467480924049, 6.078443505238057, 2.9778370407394763]\n"
     ]
    }
   ],
   "source": [
    "import random\n",
    "import numpy as np\n",
    "from sklearn.cluster import KMeans\n",
    "\n",
    "mean = 5\n",
    "stdev = 1\n",
    "\n",
    "s1 = np.random.normal(mean, stdev, 10).tolist()\n",
    "print(s1)"
   ]
  },
  {
   "cell_type": "markdown",
   "metadata": {},
   "source": [
    "a) Generate 10 more data points, this time coming from a normal distribution with mean 8 and variance 1."
   ]
  },
  {
   "cell_type": "code",
   "execution_count": 2,
   "metadata": {},
   "outputs": [
    {
     "name": "stdout",
     "output_type": "stream",
     "text": [
      "[6.980374218448478, 9.30532481440615, 8.749665876368374, 9.465630629996092, 5.339999740095845, 8.96475734793362, 8.18195371897909, 6.088293234173545, 8.295240722806557, 7.938565141130528]\n"
     ]
    }
   ],
   "source": [
    "s2 = np.random.normal(8, 1, 10).tolist()\n",
    "print(s2)"
   ]
  },
  {
   "cell_type": "markdown",
   "metadata": {},
   "source": [
    "# ------------------------------------------------------------------------"
   ]
  },
  {
   "cell_type": "markdown",
   "metadata": {},
   "source": [
    "b) Flip a fair coin 10 times. If the coin lands on H, then pick the last data point of `s1` and remove it from `s1`, if T then pick the last data point from `s2` and remove it from `s2`. Add these 10 points to a list called `data`."
   ]
  },
  {
   "cell_type": "code",
   "execution_count": 3,
   "metadata": {},
   "outputs": [
    {
     "name": "stdout",
     "output_type": "stream",
     "text": [
      "[2.9778370407394763, 7.938565141130528, 8.295240722806557, 6.088293234173545, 6.078443505238057, 6.092467480924049, 6.078319439944337, 8.18195371897909, 8.96475734793362, 5.767959047469694]\n"
     ]
    }
   ],
   "source": [
    "data = []\n",
    "for i in range(10):\n",
    "    # flip coin\n",
    "    coin_output = random.choice([0, 1])\n",
    "    if coin_output == 0:\n",
    "        p1 = s1.pop()\n",
    "        data.append(p1)\n",
    "    else:\n",
    "        p2 = s2.pop()\n",
    "        data.append(p2)\n",
    "print(data)"
   ]
  },
  {
   "cell_type": "markdown",
   "metadata": {},
   "source": [
    "# ------------------------------------------------------------------------"
   ]
  },
  {
   "cell_type": "markdown",
   "metadata": {},
   "source": [
    "c) This `data` is a Gaussian Mixture Distribution with 2 mixture components. Over the next few questions we will walk through the GMM algorithm to see if we can uncover the parameters we used to generate this data. First, please list all these parameters of the GMM that created `data` and the values we know they have."
   ]
  },
  {
   "cell_type": "markdown",
   "metadata": {},
   "source": [
    "- Number of Components: 2\n",
    "- Means (μ1, μ2): 5, 8\n",
    "- Variances (σ^2): 1\n",
    "- Mixture proportion (p1, p2): 0.5, 0.5"
   ]
  },
  {
   "cell_type": "markdown",
   "metadata": {},
   "source": [
    "# ------------------------------------------------------------------------"
   ]
  },
  {
   "cell_type": "markdown",
   "metadata": {},
   "source": [
    "d) Let's assume there are two mixture components (note: we could plot the data and make the observation that there are two clusters). The EM algorithm asks us to start with a random `mean_j`, `variance_j`, `P(S_j)` for each component j. One method we could use to find sensible values for these is to apply K means with k=2 here.\n",
    "\n",
    "1. the centroids would be the estimates of the `mean_j`\n",
    "2. the intra-cluster variance could be the estimate of `variance_j`\n",
    "3. the proportion of points in each cluster could be the estimate of `P(S_j)`\n",
    "\n",
    "Go through this process and list the parameter estimates it gives. Are they close or far from the true values?"
   ]
  },
  {
   "cell_type": "code",
   "execution_count": 4,
   "metadata": {},
   "outputs": [
    {
     "name": "stdout",
     "output_type": "stream",
     "text": [
      "[2.9778370407394763, 6.088293234173545, 6.078443505238057, 6.092467480924049, 6.078319439944337, 5.767959047469694]\n",
      "[7.938565141130528, 8.295240722806557, 8.18195371897909, 8.96475734793362]\n",
      "P(S_1) = 0.6,  P(S_2) = 0.4\n",
      "mean_1 = 5.513886624748193,  mean_2 = 8.345129232712448\n",
      "var_1 = 1.2996846538002942,  var_2 = 0.14458711835978738\n"
     ]
    }
   ],
   "source": [
    "import warnings\n",
    "warnings. filterwarnings('ignore')\n",
    "\n",
    "kmeans = KMeans(2, init='k-means++').fit(X=np.array(data).reshape(-1, 1))\n",
    "\n",
    "s1 = [x[0] for x in filter(lambda x: x[1] == 0, zip(data, kmeans.labels_))]\n",
    "print(s1)\n",
    "s2 = [x[0] for x in filter(lambda x: x[1] == 1, zip(data, kmeans.labels_))]\n",
    "print(s2)\n",
    "\n",
    "prob_s = [ len(s1) / (len(s1) + len(s2)) , len(s2) / (len(s1) + len(s2))]\n",
    "mean = [ sum(s1) / len(s1) , sum(s2) / len(s2) ]\n",
    "var = [ sum(map(lambda x : (x - mean[0])**2, s1)) / len(s1) , sum(map(lambda x : (x - mean[1])**2, s2)) / len(s2) ]\n",
    "\n",
    "print(\"P(S_1) = \" + str(prob_s[0]) + \",  P(S_2) = \" + str(prob_s[1]))\n",
    "print(\"mean_1 = \" + str(mean[0]) + \",  mean_2 = \" + str(mean[1]))\n",
    "print(\"var_1 = \" + str(var[0]) + \",  var_2 = \" + str(var[1]))"
   ]
  },
  {
   "cell_type": "markdown",
   "metadata": {},
   "source": [
    "- P(S_1) = 0.5,  P(S_2) = 0.5\n",
    "- mean_1 = 5.513886624748193,  mean_2 = 8.345129232712448\n",
    "- var_1 = 1.2996846538002942,  var_2 = 0.14458711835978738\n",
    "\n",
    "P and mean are close to the true values. Var_2 is far from the true value."
   ]
  },
  {
   "cell_type": "markdown",
   "metadata": {},
   "source": [
    "# ------------------------------------------------------------------------"
   ]
  },
  {
   "cell_type": "markdown",
   "metadata": {},
   "source": [
    "e) For each data point, compute `P(S_j | X_i)`. Comment on which cluster you think each point belongs to based on the estimated probabilities. How does that compare to the truth?"
   ]
  },
  {
   "cell_type": "code",
   "execution_count": 5,
   "metadata": {},
   "outputs": [
    {
     "name": "stdout",
     "output_type": "stream",
     "text": [
      "point =  2.9778370407394763\n",
      "probability of observing that point if it came from cluster 0 =  0.0457387973555883\n",
      "probability of observing that point if it came from cluster 1 =  1.623552740140713e-299\n",
      "point =  7.938565141130528\n",
      "probability of observing that point if it came from cluster 0 =  0.05386507531765763\n",
      "probability of observing that point if it came from cluster 1 =  0.05294784083534032\n",
      "point =  8.295240722806557\n",
      "probability of observing that point if it came from cluster 0 =  0.03108879407134524\n",
      "probability of observing that point if it came from cluster 1 =  2.599730580525602\n",
      "point =  6.088293234173545\n",
      "probability of observing that point if it came from cluster 0 =  0.2783923503512193\n",
      "probability of observing that point if it came from cluster 1 =  3.435390871745785e-53\n",
      "point =  6.078443505238057\n",
      "probability of observing that point if it came from cluster 0 =  0.27931834116737403\n",
      "probability of observing that point if it came from cluster 1 =  1.1835136155030076e-53\n",
      "point =  6.092467480924049\n",
      "probability of observing that point if it came from cluster 0 =  0.2779960315187924\n",
      "probability of observing that point if it came from cluster 1 =  5.388907836528331e-53\n",
      "point =  6.078319439944337\n",
      "probability of observing that point if it came from cluster 0 =  0.2793299220794871\n",
      "probability of observing that point if it came from cluster 1 =  1.1676993248232312e-53\n",
      "point =  8.18195371897909\n",
      "probability of observing that point if it came from cluster 0 =  0.0373220234329417\n",
      "probability of observing that point if it came from cluster 1 =  1.4595213477645654\n",
      "point =  8.96475734793362\n",
      "probability of observing that point if it came from cluster 0 =  0.009040891036844266\n",
      "probability of observing that point if it came from cluster 1 =  0.00028363533458983464\n",
      "point =  5.767959047469694\n",
      "probability of observing that point if it came from cluster 0 =  0.3011436385571798\n",
      "probability of observing that point if it came from cluster 1 =  2.828452151060967e-69\n",
      "2.9778370407394763\n",
      "Probability of coming from S_1 = 1.0\n",
      "Probability of coming from S_2 = 2.3664122277034466e-298\n",
      "\n",
      "7.938565141130528\n",
      "Probability of coming from S_1 = 0.6041148366071918\n",
      "Probability of coming from S_2 = 0.39588516339280827\n",
      "\n",
      "8.295240722806557\n",
      "Probability of coming from S_1 = 0.017621610304258538\n",
      "Probability of coming from S_2 = 0.9823783896957415\n",
      "\n",
      "6.088293234173545\n",
      "Probability of coming from S_1 = 1.0\n",
      "Probability of coming from S_2 = 8.226736755785381e-53\n",
      "\n",
      "6.078443505238057\n",
      "Probability of coming from S_1 = 1.0\n",
      "Probability of coming from S_2 = 2.824766442849568e-53\n",
      "\n",
      "6.092467480924049\n",
      "Probability of coming from S_1 = 1.0\n",
      "Probability of coming from S_2 = 1.292322485585325e-52\n",
      "\n",
      "6.078319439944337\n",
      "Probability of coming from S_1 = 1.0\n",
      "Probability of coming from S_2 = 2.786905930999035e-53\n",
      "\n",
      "8.18195371897909\n",
      "Probability of coming from S_1 = 0.0369402000948157\n",
      "Probability of coming from S_2 = 0.9630597999051843\n",
      "\n",
      "8.96475734793362\n",
      "Probability of coming from S_1 = 0.9795134770336628\n",
      "Probability of coming from S_2 = 0.020486522966337344\n",
      "\n",
      "5.767959047469694\n",
      "Probability of coming from S_1 = 1.0\n",
      "Probability of coming from S_2 = 6.261579279603286e-69\n",
      "\n"
     ]
    }
   ],
   "source": [
    "from scipy.stats import norm\n",
    "\n",
    "prob_s0_x = [] # P(S_0 | X_i)\n",
    "prob_s1_x = [] # P(S_1 | X_i)\n",
    "prob_x = [] # P(X_i)\n",
    "\n",
    "k = 2\n",
    "\n",
    "for p in data:\n",
    "    print(\"point = \", p)\n",
    "    pdf_i = []\n",
    "\n",
    "    for j in range(k):\n",
    "        # P(X_i | S_j)\n",
    "        pdf_i.append(norm.pdf(p, mean[j], var[j]))\n",
    "        print(\"probability of observing that point if it came from cluster \" + str(j) + \" = \", pdf_i[j])\n",
    "        # P(S_j) already computed\n",
    "        prob_s[j]\n",
    "\n",
    "    # P(X_i) = P(S_0)P(X_i | S_0) + P(S_1)P(X_i | S_1)\n",
    "    prob_x = prob_s[0] * pdf_i[0] + prob_s[1] * pdf_i[1]\n",
    "\n",
    "    # P(S_j | X_i) = P(X_i | S_j)P(S_j) / P(X_i)\n",
    "    prob_s0_x.append((pdf_i[0] * prob_s[0]) / prob_x)\n",
    "    prob_s1_x.append((pdf_i[1] * prob_s[1]) / prob_x)\n",
    "\n",
    "probs = zip(data, prob_s0_x, prob_s1_x)\n",
    "for p in probs:\n",
    "    print(p[0])\n",
    "    print(\"Probability of coming from S_1 = \" + str(p[1]))\n",
    "    print(\"Probability of coming from S_2 = \" + str(p[2]))\n",
    "    print()\n"
   ]
  },
  {
   "cell_type": "markdown",
   "metadata": {},
   "source": [
    "### Comment\n",
    "Based on the estimated probabilities, the assignment would be:\n",
    "- point 1 belongs to s1\n",
    "- point 2 belongs to s1\n",
    "- point 3 belongs to s2\n",
    "- point 4 belongs to s1\n",
    "- point 5 belongs to s1\n",
    "- point 6 belongs to s1\n",
    "- point 7 belongs to s1\n",
    "- point 8 belongs to s2\n",
    "- point 9 belongs to s1\n",
    "- point 10 belongs to s1"
   ]
  },
  {
   "cell_type": "markdown",
   "metadata": {},
   "source": [
    "The true assignment is:\n",
    "- point 1 belongs to s1\n",
    "- point 2 belongs to s2\n",
    "- point 3 belongs to s2\n",
    "- point 4 belongs to s2\n",
    "- point 5 belongs to s1\n",
    "- point 6 belongs to s1\n",
    "- point 7 belongs to s1\n",
    "- point 8 belongs to s2\n",
    "- point 9 belongs to s2\n",
    "- point 10 belongs to s1"
   ]
  },
  {
   "cell_type": "markdown",
   "metadata": {},
   "source": [
    "So the true assignment and the estimated assignment are mostly same."
   ]
  },
  {
   "cell_type": "markdown",
   "metadata": {},
   "source": [
    "# ------------------------------------------------------------------------"
   ]
  },
  {
   "cell_type": "markdown",
   "metadata": {},
   "source": [
    "f) Having computed `P(S_j | X_i)`, update the estimates of `mean_j`, `var_j`, and `P(S_j)`. How different are these values from the original ones you got from K means? briefly comment."
   ]
  },
  {
   "cell_type": "code",
   "execution_count": 6,
   "metadata": {},
   "outputs": [
    {
     "name": "stdout",
     "output_type": "stream",
     "text": [
      "P(S_1) = 0.763819012403993,  P(S_2) = 0.23618098759600717\n",
      "mean_1 = 6.167513915493231,  mean_2 = 8.195068111598895\n",
      "var_1 = 2.6381002832858322,  var_2 = 0.020410955856582248\n"
     ]
    }
   ],
   "source": [
    "prob_s = [sum(prob_s0_x) / len(prob_s0_x), sum(prob_s1_x) / len(prob_s1_x)]\n",
    "mean = [sum([x[0] * x[1] for x in zip(prob_s0_x, data)]) / sum(prob_s0_x), \n",
    "        sum([x[0] * x[1] for x in zip(prob_s1_x, data)]) / sum(prob_s1_x)]\n",
    "\n",
    "var = [sum([x * ((d - mean[0]) ** 2) for x, d in zip(prob_s0_x, data)]) / sum(prob_s0_x),\n",
    "       sum([x * ((d - mean[1]) ** 2) for x, d in zip(prob_s1_x, data)]) / sum(prob_s1_x)]\n",
    "\n",
    "print(\"P(S_1) = \" + str(prob_s[0]) + \",  P(S_2) = \" + str(prob_s[1]))\n",
    "print(\"mean_1 = \" + str(mean[0]) + \",  mean_2 = \" + str(mean[1]))\n",
    "print(\"var_1 = \" + str(var[0]) + \",  var_2 = \" + str(var[1]))"
   ]
  },
  {
   "cell_type": "markdown",
   "metadata": {},
   "source": [
    "### Comment\n",
    "- Mean values don't change a lot.\n",
    "- P values and variance values changes a lot towards the wrong direction."
   ]
  },
  {
   "cell_type": "markdown",
   "metadata": {},
   "source": [
    "# ------------------------------------------------------------------------"
   ]
  },
  {
   "cell_type": "markdown",
   "metadata": {},
   "source": [
    "g) Update `P(S_j | X_i)`. Comment on any differences or lack thereof you observe."
   ]
  },
  {
   "cell_type": "code",
   "execution_count": 7,
   "metadata": {},
   "outputs": [
    {
     "name": "stdout",
     "output_type": "stream",
     "text": [
      "point =  2.9778370407394763\n",
      "probability of observing that point if it came from cluster 0 =  0.07280752168524403\n",
      "probability of observing that point if it came from cluster 1 =  0.0\n",
      "point =  7.938565141130528\n",
      "probability of observing that point if it came from cluster 0 =  0.12071251185326509\n",
      "probability of observing that point if it came from cluster 1 =  9.942558661991547e-34\n",
      "point =  8.295240722806557\n",
      "probability of observing that point if it came from cluster 0 =  0.10923552247838828\n",
      "probability of observing that point if it came from cluster 1 =  0.00011501607565655261\n",
      "point =  6.088293234173545\n",
      "probability of observing that point if it came from cluster 0 =  0.1511551501268281\n",
      "probability of observing that point if it came from cluster 1 =  0.0\n",
      "point =  6.078443505238057\n",
      "probability of observing that point if it came from cluster 0 =  0.15113715023485108\n",
      "probability of observing that point if it came from cluster 1 =  0.0\n",
      "point =  6.092467480924049\n",
      "probability of observing that point if it came from cluster 0 =  0.151162143261248\n",
      "probability of observing that point if it came from cluster 1 =  0.0\n",
      "point =  6.078319439944337\n",
      "probability of observing that point if it came from cluster 0 =  0.15113691008938002\n",
      "probability of observing that point if it came from cluster 1 =  0.0\n",
      "point =  8.18195371897909\n",
      "probability of observing that point if it came from cluster 0 =  0.11298093932729471\n",
      "probability of observing that point if it came from cluster 1 =  15.900184058601395\n",
      "point =  8.96475734793362\n",
      "probability of observing that point if it came from cluster 0 =  0.08619509083317804\n",
      "probability of observing that point if it came from cluster 1 =  3.1947719476766173e-308\n",
      "point =  5.767959047469694\n",
      "probability of observing that point if it came from cluster 0 =  0.14949878848536738\n",
      "probability of observing that point if it came from cluster 1 =  0.0\n",
      "2.9778370407394763\n",
      "Probability of coming from S_1 = 1.0\n",
      "Probability of coming from S_2 = 0.0\n",
      "\n",
      "7.938565141130528\n",
      "Probability of coming from S_1 = 1.0\n",
      "Probability of coming from S_2 = 2.5468322755663395e-33\n",
      "\n",
      "8.295240722806557\n",
      "Probability of coming from S_1 = 0.9996745324060776\n",
      "Probability of coming from S_2 = 0.0003254675939223371\n",
      "\n",
      "6.088293234173545\n",
      "Probability of coming from S_1 = 1.0\n",
      "Probability of coming from S_2 = 0.0\n",
      "\n",
      "6.078443505238057\n",
      "Probability of coming from S_1 = 1.0\n",
      "Probability of coming from S_2 = 0.0\n",
      "\n",
      "6.092467480924049\n",
      "Probability of coming from S_1 = 1.0\n",
      "Probability of coming from S_2 = 0.0\n",
      "\n",
      "6.078319439944337\n",
      "Probability of coming from S_1 = 1.0\n",
      "Probability of coming from S_2 = 0.0\n",
      "\n",
      "8.18195371897909\n",
      "Probability of coming from S_1 = 0.022463708215266456\n",
      "Probability of coming from S_2 = 0.9775362917847336\n",
      "\n",
      "8.96475734793362\n",
      "Probability of coming from S_1 = 1.0\n",
      "Probability of coming from S_2 = 1.146071731877449e-307\n",
      "\n",
      "5.767959047469694\n",
      "Probability of coming from S_1 = 1.0\n",
      "Probability of coming from S_2 = 0.0\n",
      "\n"
     ]
    }
   ],
   "source": [
    "prob_s0_x = [] # P(S_0 | X_i)\n",
    "prob_s1_x = [] # P(S_1 | X_i)\n",
    "prob_x = [] # P(X_i)\n",
    "\n",
    "k = 2\n",
    "\n",
    "for p in data:\n",
    "    print(\"point = \", p)\n",
    "    pdf_i = []\n",
    "\n",
    "    for j in range(k):\n",
    "        # P(X_i | S_j)\n",
    "        pdf_i.append(norm.pdf(p, mean[j], var[j]))\n",
    "        print(\"probability of observing that point if it came from cluster \" + str(j) + \" = \", pdf_i[j])\n",
    "        # P(S_j) already computed\n",
    "        prob_s[j]\n",
    "\n",
    "    # P(X_i) = P(S_0)P(X_i | S_0) + P(S_1)P(X_i | S_1)\n",
    "    prob_x = prob_s[0] * pdf_i[0] + prob_s[1] * pdf_i[1]\n",
    "\n",
    "    # P(S_j | X_i) = P(X_i | S_j)P(S_j) / P(X_i)\n",
    "    prob_s0_x.append((pdf_i[0] * prob_s[0]) / prob_x)\n",
    "    prob_s1_x.append((pdf_i[1] * prob_s[1]) / prob_x)\n",
    "\n",
    "probs = zip(data, prob_s0_x, prob_s1_x)\n",
    "for p in probs:\n",
    "    print(p[0])\n",
    "    print(\"Probability of coming from S_1 = \" + str(p[1]))\n",
    "    print(\"Probability of coming from S_2 = \" + str(p[2]))\n",
    "    print()"
   ]
  },
  {
   "cell_type": "markdown",
   "metadata": {},
   "source": [
    "### Comment\n",
    "- Most probability distribution become 1 and 0, indicating less uncertainty on points assignment."
   ]
  },
  {
   "cell_type": "markdown",
   "metadata": {},
   "source": [
    "# ------------------------------------------------------------------------"
   ]
  },
  {
   "cell_type": "markdown",
   "metadata": {},
   "source": [
    "h) Use `P(S_j | X_i)` to create a hard assignment - label each point as belonging to a specific cluster (0 or 1)"
   ]
  },
  {
   "cell_type": "markdown",
   "metadata": {},
   "source": [
    "### Comment\n",
    "Based on the estimated probabilities above, the result would be:\n",
    "- point 1 belongs to cluster 0\n",
    "- point 2 belongs to cluster 0\n",
    "- point 3 belongs to cluster 0\n",
    "- point 4 belongs to cluster 0\n",
    "- point 5 belongs to cluster 0\n",
    "- point 6 belongs to cluster 0\n",
    "- point 7 belongs to cluster 0\n",
    "- point 8 belongs to cluster 1\n",
    "- point 9 belongs to cluster 0\n",
    "- point 10 belongs to cluster 0"
   ]
  }
 ],
 "metadata": {
  "kernelspec": {
   "display_name": "Python 3 (ipykernel)",
   "language": "python",
   "name": "python3"
  },
  "language_info": {
   "codemirror_mode": {
    "name": "ipython",
    "version": 3
   },
   "file_extension": ".py",
   "mimetype": "text/x-python",
   "name": "python",
   "nbconvert_exporter": "python",
   "pygments_lexer": "ipython3",
   "version": "3.11.4"
  },
  "vscode": {
   "interpreter": {
    "hash": "e7370f93d1d0cde622a1f8e1c04877d8463912d04d973331ad4851f04de6915a"
   }
  }
 },
 "nbformat": 4,
 "nbformat_minor": 2
}
